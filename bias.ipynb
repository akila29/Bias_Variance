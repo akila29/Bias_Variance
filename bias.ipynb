{
 "cells": [
  {
   "cell_type": "code",
   "execution_count": 2,
   "metadata": {},
   "outputs": [],
   "source": [
    "from mlxtend.evaluate import bias_variance_decomp\n",
    "import warnings\n",
    "warnings.filterwarnings('ignore')"
   ]
  },
  {
   "cell_type": "code",
   "execution_count": 11,
   "metadata": {},
   "outputs": [
    {
     "data": {
      "text/plain": [
       "(        age       sex       bmi        bp        s1        s2        s3  \\\n",
       " 0  0.038076  0.050680  0.061696  0.021872 -0.044223 -0.034821 -0.043401   \n",
       " 1 -0.001882 -0.044642 -0.051474 -0.026328 -0.008449 -0.019163  0.074412   \n",
       " 2  0.085299  0.050680  0.044451 -0.005670 -0.045599 -0.034194 -0.032356   \n",
       " 3 -0.089063 -0.044642 -0.011595 -0.036656  0.012191  0.024991 -0.036038   \n",
       " 4  0.005383 -0.044642 -0.036385  0.021872  0.003935  0.015596  0.008142   \n",
       " \n",
       "          s4        s5        s6  \n",
       " 0 -0.002592  0.019907 -0.017646  \n",
       " 1 -0.039493 -0.068332 -0.092204  \n",
       " 2 -0.002592  0.002861 -0.025930  \n",
       " 3  0.034309  0.022688 -0.009362  \n",
       " 4 -0.002592 -0.031988 -0.046641  ,\n",
       " 0    151.0\n",
       " 1     75.0\n",
       " 2    141.0\n",
       " 3    206.0\n",
       " 4    135.0\n",
       " Name: target, dtype: float64)"
      ]
     },
     "execution_count": 11,
     "metadata": {},
     "output_type": "execute_result"
    }
   ],
   "source": [
    "# We will be using the diabetes dataset from the scikit-learn Toy Datasets \n",
    "\n",
    "from sklearn.datasets import load_diabetes\n",
    "\n",
    "loaded_data = load_diabetes(as_frame=True)\n",
    "data = loaded_data['data']\n",
    "target = loaded_data['target']\n",
    "data.head(), target.head()"
   ]
  },
  {
   "cell_type": "code",
   "execution_count": null,
   "metadata": {},
   "outputs": [],
   "source": [
    "# Let us start with a simple "
   ]
  }
 ],
 "metadata": {
  "kernelspec": {
   "display_name": "basic",
   "language": "python",
   "name": "python3"
  },
  "language_info": {
   "codemirror_mode": {
    "name": "ipython",
    "version": 3
   },
   "file_extension": ".py",
   "mimetype": "text/x-python",
   "name": "python",
   "nbconvert_exporter": "python",
   "pygments_lexer": "ipython3",
   "version": "3.12.3"
  }
 },
 "nbformat": 4,
 "nbformat_minor": 2
}
